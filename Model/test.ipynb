{
 "metadata": {
  "language_info": {
   "codemirror_mode": {
    "name": "ipython",
    "version": 3
   },
   "file_extension": ".py",
   "mimetype": "text/x-python",
   "name": "python",
   "nbconvert_exporter": "python",
   "pygments_lexer": "ipython3",
   "version": "3.8.5"
  },
  "orig_nbformat": 2,
  "kernelspec": {
   "name": "python3",
   "display_name": "Python 3.8.5 64-bit ('base': conda)"
  },
  "metadata": {
   "interpreter": {
    "hash": "73d06570361f974bc57fb1dcd63b25ef1e07fc028463d99442d60ab1ca0ed543"
   }
  },
  "interpreter": {
   "hash": "73d06570361f974bc57fb1dcd63b25ef1e07fc028463d99442d60ab1ca0ed543"
  }
 },
 "nbformat": 4,
 "nbformat_minor": 2,
 "cells": [
  {
   "cell_type": "code",
   "execution_count": 5,
   "metadata": {},
   "outputs": [
    {
     "output_type": "execute_result",
     "data": {
      "text/plain": [
       "<transducteur.Transducteur at 0x7fb376ebae20>"
      ]
     },
     "metadata": {},
     "execution_count": 5
    }
   ],
   "source": [
    "quoteSolverTrans"
   ]
  },
  {
   "cell_type": "code",
   "execution_count": 40,
   "metadata": {},
   "outputs": [],
   "source": [
    "import pickle"
   ]
  },
  {
   "cell_type": "code",
   "execution_count": 41,
   "metadata": {},
   "outputs": [],
   "source": [
    "with open(\"quoteSolverTrans.bin\",\"wb\") as f:\n",
    "    a=pickle.dump(quoteSolverTrans,f)"
   ]
  },
  {
   "cell_type": "code",
   "execution_count": 39,
   "metadata": {},
   "outputs": [
    {
     "output_type": "stream",
     "name": "stdout",
     "text": [
      "forFile.txt          \u001b[0m\u001b[01;34m__pycache__\u001b[0m/      quoteSolverTrans.bin  transducteur.py\n\u001b[01;34mhelpersTransducers\u001b[0m/  quoteSolver.py    samples.py\npick                 quoteSolverTrans  test.ipynb\n"
     ]
    }
   ],
   "source": [
    "ls"
   ]
  },
  {
   "cell_type": "code",
   "execution_count": 43,
   "metadata": {},
   "outputs": [],
   "source": []
  },
  {
   "cell_type": "code",
   "execution_count": 45,
   "metadata": {},
   "outputs": [
    {
     "output_type": "execute_result",
     "data": {
      "text/plain": [
       "'character'"
      ]
     },
     "metadata": {},
     "execution_count": 45
    }
   ],
   "source": [
    "r.extactionMode"
   ]
  }
 ]
}