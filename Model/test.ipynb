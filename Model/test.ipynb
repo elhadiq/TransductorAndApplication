{
 "metadata": {
  "language_info": {
   "codemirror_mode": {
    "name": "ipython",
    "version": 3
   },
   "file_extension": ".py",
   "mimetype": "text/x-python",
   "name": "python",
   "nbconvert_exporter": "python",
   "pygments_lexer": "ipython3",
   "version": "3.8.5"
  },
  "orig_nbformat": 2,
  "kernelspec": {
   "name": "python3",
   "display_name": "Python 3.8.5 64-bit ('base': conda)"
  },
  "metadata": {
   "interpreter": {
    "hash": "73d06570361f974bc57fb1dcd63b25ef1e07fc028463d99442d60ab1ca0ed543"
   }
  },
  "interpreter": {
   "hash": "73d06570361f974bc57fb1dcd63b25ef1e07fc028463d99442d60ab1ca0ed543"
  }
 },
 "nbformat": 4,
 "nbformat_minor": 2,
 "cells": [
  {
   "cell_type": "code",
   "execution_count": 30,
   "metadata": {},
   "outputs": [],
   "source": [
    "def execute(q):\n",
    "    with open(\"test.py\",\"w\") as fprg:\n",
    "        fprg.write(q)\n",
    "    !python test.py>execution"
   ]
  },
  {
   "cell_type": "code",
   "execution_count": 31,
   "metadata": {},
   "outputs": [],
   "source": [
    "execute(\"\"\"for A  in range( 1 , 12 , 2 ): \n",
    "        for A in range(2) : \n",
    "                for A in range(2) : \n",
    "                        print(\" python_is_good \")  \n",
    "                print(\" pour_A_dans_L_faire \")  \n",
    "        print(\" pop \")  \n",
    "print(\" kiki \")\n",
    "print(A) \n",
    "print(\" bye_bye \") \"\"\")"
   ]
  },
  {
   "cell_type": "code",
   "execution_count": null,
   "metadata": {},
   "outputs": [],
   "source": []
  }
 ]
}