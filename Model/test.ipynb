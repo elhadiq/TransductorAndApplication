{
 "metadata": {
  "language_info": {
   "codemirror_mode": {
    "name": "ipython",
    "version": 3
   },
   "file_extension": ".py",
   "mimetype": "text/x-python",
   "name": "python",
   "nbconvert_exporter": "python",
   "pygments_lexer": "ipython3",
   "version": "3.8.5"
  },
  "orig_nbformat": 2,
  "kernelspec": {
   "name": "python3",
   "display_name": "Python 3.8.5 64-bit ('base': conda)"
  },
  "metadata": {
   "interpreter": {
    "hash": "73d06570361f974bc57fb1dcd63b25ef1e07fc028463d99442d60ab1ca0ed543"
   }
  },
  "interpreter": {
   "hash": "73d06570361f974bc57fb1dcd63b25ef1e07fc028463d99442d60ab1ca0ed543"
  }
 },
 "nbformat": 4,
 "nbformat_minor": 2,
 "cells": [
  {
   "cell_type": "code",
   "execution_count": 30,
   "metadata": {},
   "outputs": [],
   "source": [
    "def execute(q):\n",
    "    with open(\"test.py\",\"w\") as fprg:\n",
    "        fprg.write(q)\n",
    "    !python test.py>execution"
   ]
  },
  {
   "cell_type": "code",
   "execution_count": 31,
   "metadata": {},
   "outputs": [],
   "source": [
    "execute(\"\"\"for A  in range( 1 , 12 , 2 ): \n",
    "        for A in range(2) : \n",
    "                for A in range(2) : \n",
    "                        print(\" python_is_good \")  \n",
    "                print(\" pour_A_dans_L_faire \")  \n",
    "        print(\" pop \")  \n",
    "print(\" kiki \")\n",
    "print(A) \n",
    "print(\" bye_bye \") \"\"\")"
   ]
  },
  {
   "cell_type": "code",
   "execution_count": 9,
   "metadata": {},
   "outputs": [],
   "source": [
    "from graphviz import *"
   ]
  },
  {
   "cell_type": "code",
   "execution_count": 25,
   "metadata": {},
   "outputs": [],
   "source": [
    "config=\"\"\"\n",
    "digraph finite_state_machine {\n",
    "\trankdir=LR;\n",
    "\tsize=\"8,5\"\n",
    "\tnode [shape = doublecircle]; 0 3 4 8;\n",
    "\tnode [shape = circle];\n",
    "\tpp -> 2 [label = \"SS(B)\"];\n",
    "\t0 -> 1 [label = \"SS(S)\"];\n",
    "\t1 -> 3 [label = \"S($end)\"];\n",
    "\t2 -> 6 [label = \"SS(b)\"];\n",
    "\t2 -> 5 [label = \"SS(a)\"];\n",
    "\t2 -> 4 [label = \"S(A)\"];\n",
    "\t5 -> 7 [label = \"S(b)\"];\n",
    "\t5 -> 5 [label = \"S(a)\"];\n",
    "\t6 -> 6 [label = \"S(b)\"];\n",
    "\t6 -> 5 [label = \"S(a)\"];\n",
    "\t7 -> 8 [label = \"S(b)\"];\n",
    "\t7 -> 5 [label = \"S(a)\"];\n",
    "\t8 -> 6 [label = \"S(b)\"];\n",
    "\t8 -> 5 [label = \"S(a)\"];\n",
    "}\n",
    "\"\"\""
   ]
  },
  {
   "cell_type": "code",
   "execution_count": 26,
   "metadata": {},
   "outputs": [],
   "source": [
    "with open(\"config.dot\",\"w\") as f:\n",
    "    f.write(config)"
   ]
  },
  {
   "cell_type": "code",
   "execution_count": 27,
   "metadata": {},
   "outputs": [],
   "source": [
    "import pydotplus"
   ]
  },
  {
   "cell_type": "code",
   "execution_count": 28,
   "metadata": {},
   "outputs": [],
   "source": [
    "graph_a=pydotplus.graph_from_dot_file('config.dot')"
   ]
  },
  {
   "cell_type": "code",
   "execution_count": 29,
   "metadata": {},
   "outputs": [
    {
     "output_type": "execute_result",
     "data": {
      "text/plain": [
       "True"
      ]
     },
     "metadata": {},
     "execution_count": 29
    }
   ],
   "source": [
    "graph_a.write_pdf(\"ki.pdf\")"
   ]
  },
  {
   "cell_type": "code",
   "execution_count": null,
   "metadata": {},
   "outputs": [],
   "source": []
  }
 ]
}